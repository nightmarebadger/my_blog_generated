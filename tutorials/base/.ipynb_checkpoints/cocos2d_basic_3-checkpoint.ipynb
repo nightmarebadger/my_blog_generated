{
 "metadata": {
  "name": ""
 },
 "nbformat": 3,
 "nbformat_minor": 0,
 "worksheets": [
  {
   "cells": [
    {
     "cell_type": "heading",
     "level": 1,
     "metadata": {},
     "source": [
      "A very basic Cocos2d tutorial, part 3"
     ]
    },
    {
     "cell_type": "markdown",
     "metadata": {},
     "source": [
      "Now that we have the movement done, we need to set up [collision detection](http://cocos2d.org/doc/programming_guide/collision.html) so we can actually win or lose the game. \n",
      "\n",
      "For this, we will use a simple brute force algorithm from Cocos2d. There are better options inside Cocos2d - and we can write even better ones ourselves - but we will keep this as simple as possible.  "
     ]
    },
    {
     "cell_type": "heading",
     "level": 2,
     "metadata": {},
     "source": [
      "Collision manager"
     ]
    },
    {
     "cell_type": "markdown",
     "metadata": {},
     "source": [
      "First, we need to create a [collision manager](http://cocos2d.org/doc/api/cocos.collision_model.CollisionManager-class.html). Once we create a collision manager and add some objects to it, we can \"ask\" it questions like:\n",
      "\n",
      "* Which known objects collide with *selected object*\n",
      "* Which known objects are nearer then 'X' pixels to *selected object*\n",
      "* ... \n",
      "\n",
      "As we will use a simple brute force algorithm, we will use:"
     ]
    },
    {
     "cell_type": "code",
     "collapsed": false,
     "input": [
      "import cocos.collision_model as cm\n",
      "\n",
      "collision_manager = cm.CollisionManagerBruteForce()"
     ],
     "language": "python",
     "metadata": {},
     "outputs": []
    },
    {
     "cell_type": "heading",
     "level": 2,
     "metadata": {},
     "source": [
      "Adding sprites to the collision manager"
     ]
    },
    {
     "cell_type": "markdown",
     "metadata": {},
     "source": [
      "If we want to add a sprite to the collision manager, we need to make sure that the sprite instance has a `.cshape` property, which is either `cocos.collision_model.AARectShape` (rectangle shape) or `cocos.collision_model.AACircleShape` (circle shape). If everything is ready, we can simply add it to the collision manager via it's `.add()` method. \n",
      "\n",
      "Keep in mind that we cannot mix the two types of shapes inside a single collision manager, but we can have many collision managers (one for the player and walls, one for the player and enemies etc.)."
     ]
    },
    {
     "cell_type": "code",
     "collapsed": false,
     "input": [
      "import cocos.collision_model as cm\n",
      "\n",
      "collision_manager = cm.CollisionManagerBruteForce()\n",
      "\n",
      "sprite = cocos.sprite.Sprite(resources.image1)\n",
      "sprite.position = 200, 200\n",
      "sprite.cshape = cm.AARectShape(\n",
      "    sprite.position,\n",
      "    sprite.width//2,\n",
      "    sprite.height//2\n",
      ")"
     ],
     "language": "python",
     "metadata": {},
     "outputs": []
    },
    {
     "cell_type": "heading",
     "level": 2,
     "metadata": {},
     "source": [
      "Checking for collisions on each frame"
     ]
    },
    {
     "cell_type": "markdown",
     "metadata": {},
     "source": [
      "First of all, make sure to remember that the `.cshape` property does NOT move around with the sprite. This means that if we move the sprite, but forget to change it's `.cshape` property collision won't work as we wanted! As such, we need to make sure to update all `.cshape` properties before checking for collisions. \n",
      "\n",
      "We will of course need to check for collisions on each frame. To do this, we will use the `schedule()` function, which calls the specified function each frame. We schedule a function simply by calling something like: "
     ]
    },
    {
     "cell_type": "code",
     "collapsed": false,
     "input": [
      "schedule(update)"
     ],
     "language": "python",
     "metadata": {},
     "outputs": []
    },
    {
     "cell_type": "markdown",
     "metadata": {},
     "source": [
      "In the update function, we will usually want to update the `.cshape` properties and check if anything is colliding. Any function called by the `schedule()` function needs to accept a `dt` argument, which is the time passed between the last and current call. \n",
      "\n",
      "In this example, we will update the player and enemies `.cshape` properties and check if anything is colliding with the player - if it is, end the game (pop the Scene from the Director). "
     ]
    },
    {
     "cell_type": "code",
     "collapsed": false,
     "input": [
      "def update(dt):\n",
      "    player.cshape.center = player.position\n",
      "    for enemy in enemies:\n",
      "        enemy.cshape.center = enemy.position\n",
      "\n",
      "    collisions = collision_manager.objs_colliding(player)\n",
      "    if collisions:\n",
      "        cocos.director.director.pop()"
     ],
     "language": "python",
     "metadata": {},
     "outputs": []
    },
    {
     "cell_type": "heading",
     "level": 1,
     "metadata": {},
     "source": [
      "Adding collision detection to our game"
     ]
    },
    {
     "cell_type": "markdown",
     "metadata": {},
     "source": [
      "When creating the player, each of the enemies and the boss, we also need to create it's `.cshape` property (we will of course use rectangles (`cm.AARectShape` in our case) and add it to the collision manager. We will only use one collision manager. \n",
      "\n",
      "We will also create an `update()` function which will be called on each frame via the `schedule()` function. In this function, we will first update all `.cshape` positions and then check for any collisions with the player. If we find any, we either print \"You won!\" and close the game (when hitting the boss) or just close the game (when hitting anyone else). "
     ]
    },
    {
     "cell_type": "heading",
     "level": 2,
     "metadata": {},
     "source": [
      "Full code"
     ]
    },
    {
     "cell_type": "code",
     "collapsed": false,
     "input": [
      "from __future__ import division\n",
      "\n",
      "from cocos.actions import AccelDeccel\n",
      "from cocos.actions import Delay\n",
      "from cocos.actions import JumpBy\n",
      "from cocos.actions import Move\n",
      "from cocos.actions import MoveBy\n",
      "from cocos.actions import Repeat\n",
      "from cocos.actions import Reverse\n",
      "from cocos.actions import RotateBy\n",
      "from pyglet.window import key\n",
      "\n",
      "import cocos\n",
      "import cocos.collision_model as cm\n",
      "import resources\n",
      "\n",
      "\n",
      "class Game(cocos.layer.ColorLayer):\n",
      "    is_event_handler = True\n",
      "\n",
      "    def __init__(self):\n",
      "        super(Game, self).__init__(102, 102, 225, 255)\n",
      "\n",
      "        self.collision_manager = cm.CollisionManagerBruteForce()\n",
      "\n",
      "        self.player = cocos.sprite.Sprite(resources.player)\n",
      "        self.player.position = 400, 25\n",
      "        self.player.velocity = 0, 0\n",
      "        self.player.speed = 150\n",
      "        self.add(self.player, z=2)\n",
      "\n",
      "        self.player.cshape = cm.AARectShape(\n",
      "            self.player.position,\n",
      "            self.player.width//2,\n",
      "            self.player.height//2\n",
      "        )\n",
      "        self.collision_manager.add(self.player)\n",
      "\n",
      "        self.boss = cocos.sprite.Sprite(resources.boss)\n",
      "        self.boss.position = 400, 600\n",
      "        self.boss.scale = 0.4\n",
      "        self.add(self.boss, z=1)\n",
      "\n",
      "        self.boss.cshape = cm.AARectShape(\n",
      "            self.boss.position,\n",
      "            self.boss.width//2,\n",
      "            self.boss.height//2\n",
      "        )\n",
      "        self.collision_manager.add(self.boss)\n",
      "\n",
      "        self.batch = cocos.batch.BatchNode()\n",
      "        self.enemies = [cocos.sprite.Sprite(resources.enemy)\n",
      "                        for i in range(6)]\n",
      "        positions = ((250, 125), (550, 125), (300, 325), (500, 325),\n",
      "                     (150, 475), (650, 475))\n",
      "        for num, enem in enumerate(self.enemies):\n",
      "            enem.position = positions[num]\n",
      "            enem.cshape = cm.AARectShape(\n",
      "                enem.position,\n",
      "                enem.width//2,\n",
      "                enem.height//2\n",
      "            )\n",
      "            self.collision_manager.add(enem)\n",
      "            self.batch.add(enem)\n",
      "\n",
      "        self.add(self.batch, z=1)\n",
      "        self.player.do(Move())\n",
      "\n",
      "        move_basic = MoveBy((120, 0), 1)\n",
      "        self.enemies[0].do(Repeat(move_basic + Reverse(move_basic)))\n",
      "        self.enemies[1].do(Repeat(Reverse(move_basic) + move_basic))\n",
      "\n",
      "        move_complex = (MoveBy((-75, 75), 1) +\n",
      "                        Delay(0.5) +\n",
      "                        MoveBy((-75, -75), 1) +\n",
      "                        Delay(0.5) +\n",
      "                        MoveBy((75, -75), 1) +\n",
      "                        Delay(0.5) +\n",
      "                        MoveBy((75, 75), 1) +\n",
      "                        Delay(0.5))\n",
      "        self.enemies[2].do(Repeat(move_complex))\n",
      "        self.enemies[3].do(Repeat(Reverse(move_complex)))\n",
      "\n",
      "        move_jump = AccelDeccel(JumpBy((200, 0), 75, 3, 3))\n",
      "        move_jump_rot = AccelDeccel(RotateBy(360, 3))\n",
      "        self.enemies[4].do(Repeat(move_jump + Reverse(move_jump)))\n",
      "        self.enemies[4].do(Repeat(move_jump_rot + Reverse(move_jump_rot)))\n",
      "        self.enemies[5].do(Repeat(Reverse(move_jump) + move_jump))\n",
      "        self.enemies[5].do(Repeat(Reverse(move_jump_rot) + move_jump_rot))\n",
      "\n",
      "        self.schedule(self.update)\n",
      "\n",
      "    def update(self, dt):\n",
      "        self.player.cshape.center = self.player.position\n",
      "        for enem in self.enemies:\n",
      "            enem.cshape.center = enem.position\n",
      "\n",
      "        collisions = self.collision_manager.objs_colliding(self.player)\n",
      "        if collisions:\n",
      "            if self.boss in collisions:\n",
      "                print(\"You won!\")\n",
      "            cocos.director.director.pop()\n",
      "\n",
      "    def on_key_press(self, symbol, modifiers):\n",
      "        if symbol == key.LEFT:\n",
      "            self.player.velocity = -self.player.speed, 0\n",
      "        elif symbol == key.RIGHT:\n",
      "            self.player.velocity = self.player.speed, 0\n",
      "        elif symbol == key.UP:\n",
      "            self.player.velocity = 0, self.player.speed\n",
      "        elif symbol == key.DOWN:\n",
      "            self.player.velocity = 0, -self.player.speed\n",
      "        elif symbol == key.SPACE:\n",
      "            self.player.velocity = 0, 0\n",
      "\n",
      "if __name__ == '__main__':\n",
      "    cocos.director.director.init(\n",
      "        width=800,\n",
      "        height=650,\n",
      "        caption=\"Catch your husband!\"\n",
      "    )\n",
      "\n",
      "    game_layer = Game()\n",
      "    game_scene = cocos.scene.Scene(game_layer)\n",
      "\n",
      "    cocos.director.director.run(game_scene)\n"
     ],
     "language": "python",
     "metadata": {},
     "outputs": []
    },
    {
     "cell_type": "heading",
     "level": 1,
     "metadata": {},
     "source": [
      "What comes next?"
     ]
    },
    {
     "cell_type": "markdown",
     "metadata": {},
     "source": [
      "With collision detection, we can finally play our game and actually win or lose it (albeit with a very anti-climatic \"You won!\" print to the console while the game closes). Next on the list is adding menus with some simple options (FPS counter, fullscreen switch), which will allow us to nicely start (and re-start, as we just know everyone will want another crack at catching that pesky husband :) ) the game and give it a more \"finished\" feeling all over. "
     ]
    }
   ],
   "metadata": {}
  }
 ]
}