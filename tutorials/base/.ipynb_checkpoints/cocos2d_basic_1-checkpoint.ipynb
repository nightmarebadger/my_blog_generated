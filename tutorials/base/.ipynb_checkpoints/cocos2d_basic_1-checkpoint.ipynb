{
 "metadata": {
  "name": ""
 },
 "nbformat": 3,
 "nbformat_minor": 0,
 "worksheets": [
  {
   "cells": [
    {
     "cell_type": "heading",
     "level": 1,
     "metadata": {},
     "source": [
      "A very basic Cocos2d tutorial, part 1"
     ]
    },
    {
     "cell_type": "markdown",
     "metadata": {},
     "source": [
      "This tutorial continues where the \"a very basic pyglet tutorial\" left off. We will be moving from the base Pyglet implementation to the Cocos2d one. In this tutorial, we will re-create the same game as in the Pyglet tutorial, only this time, we will use the Cocos2d library built on top of Pyglet. "
     ]
    },
    {
     "cell_type": "heading",
     "level": 1,
     "metadata": {},
     "source": [
      "What is Cocos2d?"
     ]
    },
    {
     "cell_type": "markdown",
     "metadata": {},
     "source": [
      "[Cocos2d](http://cocos2d.org/) is a library built on top of Pyglet, and is a framework for building 2D games, demos and other graphical/interactive applications. \n",
      "\n",
      "A list of main features taken from their website lists them as:\n",
      "\n",
      "* **Flow control**: Manage the flow control between different scenes in an easy way\n",
      "* **Sprites**: Fast and easy sprites\n",
      "* **Actions**: Just tell sprites what you want them to do. Composable actions like move, rotate, scale and much more\n",
      "* **Effects**: Effects like waves, twirl, lens and much more\n",
      "* **Tiled Maps**: Support for rectangular and hexagonal tiled maps\n",
      "* **Transitions**: Move from scene to scene with style\n",
      "* **Menus**: Built in classes to create menus\n",
      "* **Text Rendering**: Label and HTMLLabel with action support\n",
      "* **Documentation**: Programming Guide + API Reference + Video Tutorials + Lots of simple tests showing how to use it\n",
      "* **Built-in Python Interpreter**: For debugging purposes\n",
      "* **BSD License**: Just use it\n",
      "* **Pyglet Based**: No external dependencies\n",
      "* **OpenGL Based**: Hardware Acceleration\n",
      "\n",
      "As you can guess, using Cocos2d instead of just Pyglet can save us a lot of time when trying to make a game. Things like Actions, Flow control, Menus etc. are indispensable in building a game, and this way, we do not have to make them from scratch. "
     ]
    },
    {
     "cell_type": "heading",
     "level": 1,
     "metadata": {},
     "source": [
      "Cocos2d basics"
     ]
    },
    {
     "cell_type": "heading",
     "level": 2,
     "metadata": {},
     "source": [
      "Scenes"
     ]
    },
    {
     "cell_type": "markdown",
     "metadata": {},
     "source": [
      "[Scenes](http://cocos2d.org/doc/programming_guide/scenes.html) are more or less independent pieces of the application workflow, that are glued together by the [Director](http://cocos2d.org/doc/programming_guide/director.html). You application can have a large amount of *Scenes*, but only one can be active at a given time. \n",
      "\n",
      "In a normal game, *Scenes* would usually be something like:\n",
      "\n",
      "* Intro\n",
      "* Menu\n",
      "* Level\n",
      "* Winning scene\n",
      "* Losing scene\n",
      "\n",
      "*Scenes* can be glued together by the *Director* in whatever way you wish. Usually, an Intro will lead to the Menu, which will start the Level, which will end in either the Winning or Losing scene, which will lead back to the Menu. \n",
      "\n",
      "Of course, as the game grows, so does the number and complexity of *Scenes*, leading to something like the below image\n",
      "\n",
      "<figure>\n",
      "    <img src=\"http://cocos2d.org/doc/programming_guide/scenes.png\" alt=\"Scenes hierarchy\">\n",
      "    <figcaption>\n",
      "        Image taken from the cocos2d [programming guide](http://cocos2d.org/doc/programming_guide/scenes.html)\n",
      "    </figcaption>\n",
      "</figure>\n",
      "\n",
      "Each *Scene* is usually further divided into *Layers*. "
     ]
    },
    {
     "cell_type": "heading",
     "level": 2,
     "metadata": {},
     "source": [
      "Layers"
     ]
    },
    {
     "cell_type": "markdown",
     "metadata": {},
     "source": [
      "[Layers](http://cocos2d.org/doc/programming_guide/layers.html) help you organise the *Scene* in the back to front axis. You can think of *Layers* similarly to layers in Photoshop or something similar - as transparent sheets on which you can draw the children, which are stacked one on top of another to make a *Scene*. *Layers* with higher 'z' coordinate value are on \"top\" (closer to the camera). \n",
      "\n",
      "*Layers* can be something like:\n",
      "\n",
      "* Background: fixed landscape/background\n",
      "* Far: decorations\n",
      "* Middle: gameplay elements\n",
      "* Near: player, enemies\n",
      "* HUD: game stats, HP/mana, ...\n",
      "\n",
      "Each layer would have a different 'z' coordinate, making sure that the HUD is always shown on top, that the player is shown on top of the gameplay elements etc.\n",
      "\n",
      "<figure>\n",
      "    <img src=\"http://cocos2d.org/doc/programming_guide/layers.png\" alt=\"Layers making a Scene\">\n",
      "    <figcaption>\n",
      "        Image taken from the cocos2d [programming guide](http://cocos2d.org/doc/programming_guide/layers.html)\n",
      "    </figcaption>\n",
      "</figure>\n",
      "\n",
      "On *Layers* you also define event handlers. Events are the propagated to the layers from front to back until a *Layer* catches and accepts it. Quite nice, as this way you do not have to worry about more then one *Layer* accepting the same event, as only the top-most one will catch it, which is almost always what we want to do. "
     ]
    },
    {
     "cell_type": "heading",
     "level": 2,
     "metadata": {},
     "source": [
      "Handling key presses"
     ]
    },
    {
     "cell_type": "markdown",
     "metadata": {},
     "source": [
      "To handle key presses you must first set `is_event_handler = True` inside your Layer and then use the [various events](http://www.pyglet.org/doc/api/pyglet.window.Window-class.html) defined by Pyglet.\n",
      "\n",
      "You can also define your own events. "
     ]
    },
    {
     "cell_type": "heading",
     "level": 2,
     "metadata": {},
     "source": [
      "Sample bare bones program"
     ]
    },
    {
     "cell_type": "code",
     "collapsed": false,
     "input": [
      "import cocos\n",
      "\n",
      "if __name__ == '__main__':\n",
      "    cocos.director.director.init()\n",
      "    scene = cocos.scene.Scene()\n",
      "    cocos.director.director.run(scene)"
     ],
     "language": "python",
     "metadata": {},
     "outputs": []
    },
    {
     "cell_type": "markdown",
     "metadata": {},
     "source": [
      "As you can expect, this looks exactly the same as it did in the Pyglet bare bones program. \n",
      "\n",
      "<img src=\"images/cocos2d_basic_1/example_bare_bones.png\" alt=\"Pyglet bare bones program\">\n",
      "\n",
      "In cocos2d, we do not need to override the `on_draw` function, as the screen is automatically cleared each frame and all *children* of the current *Layers* are drawn on the screen. \n",
      "\n",
      "We only need to initialize the *Director*, create an empty *Scene* and run it with the *Director* - cocos2d takes care of everything else. "
     ]
    },
    {
     "cell_type": "heading",
     "level": 1,
     "metadata": {},
     "source": [
      "Translating the game from Pyglet to Cocos2d"
     ]
    },
    {
     "cell_type": "heading",
     "level": 2,
     "metadata": {},
     "source": [
      "What do we need to do?"
     ]
    },
    {
     "cell_type": "markdown",
     "metadata": {},
     "source": [
      "We need to create a Game `cocos.layer.ColorLayer` (we use *ColorLayer* instead of normal *Layer* so we can choose the background colour) which will be able to handle our key presses. \n",
      "\n",
      "Then we create our player, enemies and boss using `cocos.sprite.Sprite` and `cocos.batch.BatchNode`. The Cocos2d *Sprite* is an expanded version of the Pyglet *Sprite* and offers extra functionality, such as [Actions](http://cocos2d.org/doc/programming_guide/actions.html). When we create all those *Sprites*, we will add them to the Game layer so they are all drawn. \n",
      "\n",
      "We will take care of the player movement using the `cocos.actions.Move` action, which automatically moves the *Sprite* using it's `velocity` parameter. \n",
      "\n",
      "The *resources.py* file does not need to be changed. "
     ]
    },
    {
     "cell_type": "heading",
     "level": 2,
     "metadata": {},
     "source": [
      "Full code"
     ]
    },
    {
     "cell_type": "code",
     "collapsed": false,
     "input": [
      "from __future__ import division\n",
      "\n",
      "from cocos.actions import Move\n",
      "from pyglet.window import key\n",
      "\n",
      "import cocos\n",
      "import resources\n",
      "\n",
      "\n",
      "class Game(cocos.layer.ColorLayer):\n",
      "    is_event_handler = True\n",
      "    def __init__(self):\n",
      "        super(Game, self).__init__(102, 102, 225, 255)\n",
      "\n",
      "        self.player = cocos.sprite.Sprite(resources.player)\n",
      "        self.player.position = 400, 25\n",
      "        self.player.velocity = 0, 0\n",
      "        self.player.speed = 150\n",
      "        self.add(self.player, z=2)\n",
      "\n",
      "        self.boss = cocos.sprite.Sprite(resources.boss)\n",
      "        self.boss.position = 400, 600\n",
      "        self.boss.scale = 0.4\n",
      "        self.add(self.boss, z=1)\n",
      "\n",
      "        self.batch = cocos.batch.BatchNode()\n",
      "        self.enemies = [cocos.sprite.Sprite(resources.enemy)\n",
      "                   for i in range(6)]\n",
      "        positions = ((250, 125), (550, 125),\n",
      "                     (300, 325), (500, 325),\n",
      "                     (150, 475), (650, 475))\n",
      "        for num, enem in enumerate(self.enemies):\n",
      "            enem.position = positions[num]\n",
      "            self.batch.add(enem)\n",
      "\n",
      "        self.add(self.batch, z=1)\n",
      "\n",
      "        self.player.do(Move())\n",
      "\n",
      "    def on_key_press(self, symbol, modifiers):\n",
      "        if symbol == key.LEFT:\n",
      "            self.player.velocity = -self.player.speed, 0\n",
      "        elif symbol == key.RIGHT:\n",
      "            self.player.velocity = self.player.speed, 0\n",
      "        elif symbol == key.UP:\n",
      "            self.player.velocity = 0, self.player.speed\n",
      "        elif symbol == key.DOWN:\n",
      "            self.player.velocity = 0, -self.player.speed\n",
      "        elif symbol == key.SPACE:\n",
      "            self.player.velocity = 0, 0\n",
      "\n",
      "if __name__ == '__main__':\n",
      "    cocos.director.director.init(\n",
      "        width=800,\n",
      "        height=650,\n",
      "        caption=\"Catch your husband!\"\n",
      "    )\n",
      "\n",
      "    game_layer = Game()\n",
      "    game_scene = cocos.scene.Scene(game_layer)\n",
      "\n",
      "    cocos.director.director.run(game_scene)"
     ],
     "language": "python",
     "metadata": {},
     "outputs": []
    },
    {
     "cell_type": "markdown",
     "metadata": {},
     "source": [
      "The \"finished\" game again looks the same as it looked when built purely in Pyglet.\n",
      "\n",
      "<img src=\"images/cocos2d_basic_1/game.png\" alt=\"Catch your husband!\">\n",
      "\n",
      "Not that much has changed, so you can read through the code alone, or continue up with the in-depth explanation."
     ]
    },
    {
     "cell_type": "heading",
     "level": 2,
     "metadata": {},
     "source": [
      "Creating the Game layer"
     ]
    },
    {
     "cell_type": "code",
     "collapsed": false,
     "input": [
      "class Game(cocos.layer.ColorLayer):\n",
      "    def __init__(self):\n",
      "        super(Game, self).__init__(102, 102, 225, 255)"
     ],
     "language": "python",
     "metadata": {},
     "outputs": []
    },
    {
     "cell_type": "markdown",
     "metadata": {},
     "source": [
      "This is the base code we need to create our Game layer. Basically we just call the `cocos.layer.ColorLayer` with our desired color. "
     ]
    },
    {
     "cell_type": "heading",
     "level": 3,
     "metadata": {},
     "source": [
      "Player sprite"
     ]
    },
    {
     "cell_type": "code",
     "collapsed": false,
     "input": [
      "self.player = cocos.sprite.Sprite(resources.player)\n",
      "self.player.position = 400, 25\n",
      "self.player.velocity = 0, 0\n",
      "self.player.speed = 150\n",
      "self.add(self.player, z=2)"
     ],
     "language": "python",
     "metadata": {},
     "outputs": []
    },
    {
     "cell_type": "markdown",
     "metadata": {},
     "source": [
      "We create a `cocos.sprite.Sprite` using the player image resource. We also set it's `velocity` to the base `0, 0` and set the player's `speed` to 150px per second. In the end, we add the player to the Game layer, making sure it will be drawn. We add it with the `z` coordinate of 2, so it will be on top of enemies and the boss. "
     ]
    },
    {
     "cell_type": "heading",
     "level": 3,
     "metadata": {},
     "source": [
      "Enemy sprites"
     ]
    },
    {
     "cell_type": "code",
     "collapsed": false,
     "input": [
      "self.batch = cocos.batch.BatchNode()\n",
      "self.enemies = [cocos.sprite.Sprite(resources.enemy)\n",
      "           for i in range(6)]\n",
      "positions = ((250, 125), (550, 125),\n",
      "             (300, 325), (500, 325),\n",
      "             (150, 475), (650, 475))\n",
      "for num, enem in enumerate(self.enemies):\n",
      "    enem.position = positions[num]\n",
      "    self.batch.add(enem)\n",
      "\n",
      "self.add(self.batch, z=1)"
     ],
     "language": "python",
     "metadata": {},
     "outputs": []
    },
    {
     "cell_type": "markdown",
     "metadata": {},
     "source": [
      "We created a `cocos.batch.BatchNode` and added 6 enemies (*Sprites* using the enemy image resource) inside a list. \n",
      "The code is also shortened a bit and now uses a for loop to change the enemies positions and add them to the batch. The last line adds the whole batch to the Game layer with the `z` coordinate of 1 (so they will appear under the player). "
     ]
    },
    {
     "cell_type": "heading",
     "level": 3,
     "metadata": {},
     "source": [
      "Boss sprite"
     ]
    },
    {
     "cell_type": "code",
     "collapsed": false,
     "input": [
      "self.boss = cocos.sprite.Sprite(resources.boss)\n",
      "self.boss.position = 400, 600\n",
      "self.boss.scale = 0.4\n",
      "self.add(self.boss, z=1)"
     ],
     "language": "python",
     "metadata": {},
     "outputs": []
    },
    {
     "cell_type": "markdown",
     "metadata": {},
     "source": [
      "Same as with player - we create a boss *Sprite*, set it's position to the desired value and add the boss to the Game layer. We also scaled him a bit as the image we have is too big. "
     ]
    },
    {
     "cell_type": "heading",
     "level": 3,
     "metadata": {},
     "source": [
      "Handling key presses"
     ]
    },
    {
     "cell_type": "markdown",
     "metadata": {},
     "source": [
      "Two parts are important to make sure our Game layer can handle key presses. First, we need to make sure the Game layer's `is_event_handler` parameter is set to `True` and second, we need to add the actual game handlers. The code is"
     ]
    },
    {
     "cell_type": "code",
     "collapsed": false,
     "input": [
      "class Game(cocos.layer.ColorLayer):\n",
      "    is_event_handler = True\n",
      "    def __init__(self):\n",
      "        super(Game, self).__init__(102, 102, 225, 255)"
     ],
     "language": "python",
     "metadata": {},
     "outputs": []
    },
    {
     "cell_type": "markdown",
     "metadata": {},
     "source": [
      "to set the `is_event_handler` and"
     ]
    },
    {
     "cell_type": "code",
     "collapsed": false,
     "input": [
      "def on_key_press(self, symbol, modifiers):\n",
      "    if symbol == key.LEFT:\n",
      "        self.player.velocity = -self.player.speed, 0\n",
      "    elif symbol == key.RIGHT:\n",
      "        self.player.velocity = self.player.speed, 0\n",
      "    elif symbol == key.UP:\n",
      "        self.player.velocity = 0, self.player.speed\n",
      "    elif symbol == key.DOWN:\n",
      "        self.player.velocity = 0, -self.player.speed\n",
      "    elif symbol == key.SPACE:\n",
      "        self.player.velocity = 0, 0"
     ],
     "language": "python",
     "metadata": {},
     "outputs": []
    },
    {
     "cell_type": "markdown",
     "metadata": {},
     "source": [
      "is the method inside the Game layer that takes care of keyboard key presses. As before, pressing the arrow keys moves the player in that direction and pressing space stops the player movement. "
     ]
    },
    {
     "cell_type": "heading",
     "level": 3,
     "metadata": {},
     "source": [
      "Player movement"
     ]
    },
    {
     "cell_type": "markdown",
     "metadata": {},
     "source": [
      "As we already added all the necessary parameters to the player (the `velocity` parameter), we only need to call the `Move` action on the player. This way, the player will continue moving by it's velocity every second. This line, set at the end of the Game layer's `__init__` function, takes care of that"
     ]
    },
    {
     "cell_type": "code",
     "collapsed": false,
     "input": [
      "self.player.do(Move())"
     ],
     "language": "python",
     "metadata": {},
     "outputs": []
    },
    {
     "cell_type": "heading",
     "level": 2,
     "metadata": {},
     "source": [
      "The main function"
     ]
    },
    {
     "cell_type": "markdown",
     "metadata": {},
     "source": [
      "The only thing that remains is to actually run the game. To do this we need to intialize the *Director*, create a *Scene* out of our Game layer and run it using the `cocos.director.director.run()` command. We do all this in the following few lines of code"
     ]
    },
    {
     "cell_type": "code",
     "collapsed": false,
     "input": [
      "if __name__ == '__main__':\n",
      "    cocos.director.director.init(\n",
      "        width=800,\n",
      "        height=650,\n",
      "        caption=\"Catch your husband!\"\n",
      "    )\n",
      "\n",
      "    game_layer = Game()\n",
      "    game_scene = cocos.scene.Scene(game_layer)\n",
      "\n",
      "    cocos.director.director.run(game_scene)"
     ],
     "language": "python",
     "metadata": {},
     "outputs": []
    },
    {
     "cell_type": "heading",
     "level": 1,
     "metadata": {},
     "source": [
      "What comes next?"
     ]
    },
    {
     "cell_type": "markdown",
     "metadata": {},
     "source": [
      "As you could guess from the title, this is only part 1 of my planned Cocos2d tutorials. In the next part we will look at how to create some simple but attractive movement for the enemies and even later we will look at collision detection, menus etc., so stay tuned. \n",
      "\n",
      "The next tutorials will also be shorter then this one. As always, feel free to leave your comments below :)"
     ]
    }
   ],
   "metadata": {}
  }
 ]
}