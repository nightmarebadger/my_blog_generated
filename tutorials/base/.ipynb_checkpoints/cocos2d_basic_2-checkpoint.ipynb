{
 "metadata": {
  "name": ""
 },
 "nbformat": 3,
 "nbformat_minor": 0,
 "worksheets": [
  {
   "cells": [
    {
     "cell_type": "heading",
     "level": 1,
     "metadata": {},
     "source": [
      "A very basic Cocos2d tutorial, part 2"
     ]
    },
    {
     "cell_type": "markdown",
     "metadata": {},
     "source": [
      "In this tutorial, we will add movement to all the henchmen. This means we will take a closer look at [Actions](http://cocos2d.org/doc/programming_guide/actions.html) and use them to produce different movements for different henchmen. "
     ]
    },
    {
     "cell_type": "heading",
     "level": 1,
     "metadata": {},
     "source": [
      "Actions"
     ]
    },
    {
     "cell_type": "markdown",
     "metadata": {},
     "source": [
      "*Actions* are basically orders passed to a `CocosNode` object, and they usually modify one or more of the object's attributes like `position`, `rotation`, `scale` etc.\n",
      "\n",
      "Actions are split in two basic types - actions that are instant ([InstantActions](http://cocos2d.org/doc/api/cocos.actions.base_actions.InstantAction-class.html)) and actions that modify the attributes over a period of time ([IntervalActions](http://cocos2d.org/doc/api/cocos.actions.base_actions.IntervalAction-class.html)). \n",
      "\n",
      "We have already used an *Action* in the previous tutorial; the *Move* action, which moves the target based on the parameters `velocity`, `acceleration` and `gravity`. The `gravity` parameter is basically acceleration on the *y* axis. As such, you will usually want your gravity to be negative, so the character will fall down, not up. "
     ]
    },
    {
     "cell_type": "heading",
     "level": 2,
     "metadata": {},
     "source": [
      "Instant actions"
     ]
    },
    {
     "cell_type": "markdown",
     "metadata": {},
     "source": [
      "Actions like `Hide` (hides the object), `Show` (shows the object) and `Place` (\"teleports\" the object to the specified position) are instant actions. \n",
      "\n",
      "Programmatically speaking, `InstantActions` aren't all that different from `IntervalActions` - they just promise us that any changes that are performed on the target will be done in the `.start` method and their methods `.step`, `.update` and `.stop` do not do anything. This makes sure that `InstantActions` remain \"compatible\" with `IntervalActions`, meaning we can combine them in various ways. "
     ]
    },
    {
     "cell_type": "heading",
     "level": 2,
     "metadata": {},
     "source": [
      "Interval actions"
     ]
    },
    {
     "cell_type": "markdown",
     "metadata": {},
     "source": [
      "Interval actions are actions that change the target's parameters over a fixed duration. For instance, the actions `MoveTo((50, 50), 10)` would move the target to the position (50, 50) in 10 seconds. \n",
      "\n",
      "Interval actions can also be degenerated with a duration of 0, practically turning them into instant actions. The player would not see a difference between `MoveTo((50, 50), 0)` and ``Place((50, 50))`."
     ]
    },
    {
     "cell_type": "heading",
     "level": 2,
     "metadata": {},
     "source": [
      "Combining actions"
     ]
    },
    {
     "cell_type": "markdown",
     "metadata": {},
     "source": [
      "Actions can easily be combined together to build a chain of subsequent actions. To chain actions together, you can use math operators + and \\*, which do exactly what you would expect them to - add and multiply actions. \n",
      "\n",
      "Let's say that we want a character to move 50px to the right in one second and then 50px up in two seconds. We could do this with:"
     ]
    },
    {
     "cell_type": "code",
     "collapsed": false,
     "input": [
      "MoveBy((50, 0), 1) + MoveBy((0, 50), 2)"
     ],
     "language": "python",
     "metadata": {},
     "outputs": []
    },
    {
     "cell_type": "markdown",
     "metadata": {},
     "source": [
      "Now we want the character to move 50px to the right in half a second, wait for half a second and repeat those two actions five times. We can do this with:"
     ]
    },
    {
     "cell_type": "code",
     "collapsed": false,
     "input": [
      "(MoveBy((50, 0), 0.5) + Delay(0.5)) * 5"
     ],
     "language": "python",
     "metadata": {},
     "outputs": []
    },
    {
     "cell_type": "markdown",
     "metadata": {},
     "source": [
      "With combining actions like this, we can easily come up with fun and complex movements for our characters. "
     ]
    },
    {
     "cell_type": "heading",
     "level": 3,
     "metadata": {},
     "source": [
      "Repeating actions"
     ]
    },
    {
     "cell_type": "markdown",
     "metadata": {},
     "source": [
      "Sometimes you would want to repeat an action indefinitely - for instance, you might want to create a guard \"patrolling\" the hallway by moving from left to right, waiting a bit on each side. When we want to repeat an action indefinitely, we use the `Repeat` action. \n",
      "\n",
      "We could create a patrolling guard like this:"
     ]
    },
    {
     "cell_type": "code",
     "collapsed": false,
     "input": [
      "Repeat(Delay(0.5) + MoveBy((200, 0), 2) + Delay(0.5) + MoveBy((-200, 0), 2))"
     ],
     "language": "python",
     "metadata": {},
     "outputs": []
    },
    {
     "cell_type": "heading",
     "level": 3,
     "metadata": {},
     "source": [
      "Reversing actions"
     ]
    },
    {
     "cell_type": "markdown",
     "metadata": {},
     "source": [
      "Many times you might want to reverse an action. To do this, use the `Reverse` action. If an action is complex (made out of more actions), the actions will be run from last to first, with each of the actions reversed. \n",
      "\n",
      "For instance, the reverse of an action that would move our character 50px right, then 50px up, then wait 2 seconds would be an action that would first wait 2 seconds, then move 50px down and then 50px left. "
     ]
    },
    {
     "cell_type": "code",
     "collapsed": false,
     "input": [
      "movement = MoveBy((50, 0), 1) + MoveBy((0, 50), 1) + Delay(2)\n",
      "movement_reversed = Reverse(movement)\n",
      "movement_manual_reversed = Delay(2) + MoveBy((0, -50), 1) + MoveBy((-50, 0), 1)"
     ],
     "language": "python",
     "metadata": {},
     "outputs": []
    },
    {
     "cell_type": "markdown",
     "metadata": {},
     "source": [
      "*movement_reversed* and *movement_manual_reversed* do the exact same thing. "
     ]
    },
    {
     "cell_type": "heading",
     "level": 1,
     "metadata": {},
     "source": [
      "Adding movement to the NPC's"
     ]
    },
    {
     "cell_type": "markdown",
     "metadata": {},
     "source": [
      "We will use a combination of actions to make the henchmen move. Since their positions are mirrored on the *x* axis, we will make each of the bottom, middle and top two henchmen have the same (but reversed) movement. All of them will repeat the same movement indefinitely. "
     ]
    },
    {
     "cell_type": "heading",
     "level": 2,
     "metadata": {},
     "source": [
      "Full code"
     ]
    },
    {
     "cell_type": "code",
     "collapsed": false,
     "input": [
      "from __future__ import division\n",
      "\n",
      "from cocos.actions import AccelDeccel\n",
      "from cocos.actions import Delay\n",
      "from cocos.actions import JumpBy\n",
      "from cocos.actions import Move\n",
      "from cocos.actions import MoveBy\n",
      "from cocos.actions import Repeat\n",
      "from cocos.actions import Reverse\n",
      "from cocos.actions import RotateBy\n",
      "from pyglet.window import key\n",
      "\n",
      "import cocos\n",
      "import resources\n",
      "\n",
      "\n",
      "class Game(cocos.layer.ColorLayer):\n",
      "    is_event_handler = True\n",
      "    def __init__(self):\n",
      "        super(Game, self).__init__(102, 102, 225, 255)\n",
      "\n",
      "        self.player = cocos.sprite.Sprite(resources.player)\n",
      "        self.player.position = 400, 25\n",
      "        self.player.velocity = 0, 0\n",
      "        self.player.speed = 150\n",
      "        self.add(self.player, z=2)\n",
      "\n",
      "        self.boss = cocos.sprite.Sprite(resources.boss)\n",
      "        self.boss.position = 400, 600\n",
      "        self.boss.scale = 0.4\n",
      "        self.add(self.boss, z=1)\n",
      "\n",
      "        self.batch = cocos.batch.BatchNode()\n",
      "        self.enemies = [cocos.sprite.Sprite(resources.enemy)\n",
      "                   for i in range(6)]\n",
      "        positions = ((250, 125), (550, 125), (300, 325), (500, 325),\n",
      "                     (150, 475), (650, 475))\n",
      "        for num, enem in enumerate(self.enemies):\n",
      "            enem.position = positions[num]\n",
      "            self.batch.add(enem)\n",
      "\n",
      "        self.add(self.batch, z=1)\n",
      "        self.player.do(Move())\n",
      "\n",
      "        move_basic = MoveBy((120, 0), 1)\n",
      "        self.enemies[0].do(Repeat(move_basic + Reverse(move_basic)))\n",
      "        self.enemies[1].do(Repeat(Reverse(move_basic) + move_basic))\n",
      "\n",
      "        move_complex = (MoveBy((-75, 75), 1) +\n",
      "                        Delay(0.5) +\n",
      "                        MoveBy((-75, -75), 1) +\n",
      "                        Delay(0.5) +\n",
      "                        MoveBy((75, -75), 1) +\n",
      "                        Delay(0.5) +\n",
      "                        MoveBy((75, 75), 1) +\n",
      "                        Delay(0.5))\n",
      "        self.enemies[2].do(Repeat(move_complex))\n",
      "        self.enemies[3].do(Repeat(Reverse(move_complex)))\n",
      "\n",
      "        move_jump = AccelDeccel(JumpBy((200, 0), 75, 3, 3))\n",
      "        move_jump_rot = AccelDeccel(RotateBy(360, 3))\n",
      "        self.enemies[4].do(Repeat(move_jump + Reverse(move_jump)))\n",
      "        self.enemies[4].do(Repeat(move_jump_rot + Reverse(move_jump_rot)))\n",
      "        self.enemies[5].do(Repeat(Reverse(move_jump) + move_jump))\n",
      "        self.enemies[5].do(Repeat(Reverse(move_jump_rot) + move_jump_rot))\n",
      "\n",
      "    def on_key_press(self, symbol, modifiers):\n",
      "        if symbol == key.LEFT:\n",
      "            self.player.velocity = -self.player.speed, 0\n",
      "        elif symbol == key.RIGHT:\n",
      "            self.player.velocity = self.player.speed, 0\n",
      "        elif symbol == key.UP:\n",
      "            self.player.velocity = 0, self.player.speed\n",
      "        elif symbol == key.DOWN:\n",
      "            self.player.velocity = 0, -self.player.speed\n",
      "        elif symbol == key.SPACE:\n",
      "            self.player.velocity = 0, 0\n",
      "\n",
      "if __name__ == '__main__':\n",
      "    cocos.director.director.init(\n",
      "        width=800,\n",
      "        height=650,\n",
      "        caption=\"Catch your husband!\"\n",
      "    )\n",
      "\n",
      "    game_layer = Game()\n",
      "    game_scene = cocos.scene.Scene(game_layer)\n",
      "\n",
      "    cocos.director.director.run(game_scene)"
     ],
     "language": "python",
     "metadata": {},
     "outputs": []
    },
    {
     "cell_type": "heading",
     "level": 2,
     "metadata": {},
     "source": [
      "Bottom henchmen movement"
     ]
    },
    {
     "cell_type": "code",
     "collapsed": false,
     "input": [
      "move_basic = MoveBy((120, 0), 1)\n",
      "self.enemies[0].do(Repeat(move_basic + Reverse(move_basic)))\n",
      "self.enemies[1].do(Repeat(Reverse(move_basic) + move_basic))"
     ],
     "language": "python",
     "metadata": {},
     "outputs": []
    },
    {
     "cell_type": "markdown",
     "metadata": {},
     "source": [
      "The bottom two henchmen will move in a very simple way - they will just run 120px left and right. "
     ]
    },
    {
     "cell_type": "heading",
     "level": 3,
     "metadata": {},
     "source": [
      "Middle henchmen movement"
     ]
    },
    {
     "cell_type": "code",
     "collapsed": false,
     "input": [
      "move_complex = (MoveBy((-75, 75), 1) +\n",
      "                Delay(0.5) +\n",
      "                MoveBy((-75, -75), 1) +\n",
      "                Delay(0.5) +\n",
      "                MoveBy((75, -75), 1) +\n",
      "                Delay(0.5) +\n",
      "                MoveBy((75, 75), 1) +\n",
      "                Delay(0.5))\n",
      "self.enemies[2].do(Repeat(move_complex))\n",
      "self.enemies[3].do(Repeat(Reverse(move_complex)))"
     ],
     "language": "python",
     "metadata": {},
     "outputs": []
    },
    {
     "cell_type": "markdown",
     "metadata": {},
     "source": [
      "The movement of the middle henchmen is a little more complex. They will move in a square, stopping for half a second on each of the square's vertices. "
     ]
    },
    {
     "cell_type": "heading",
     "level": 3,
     "metadata": {},
     "source": [
      "Top henchmen movement"
     ]
    },
    {
     "cell_type": "code",
     "collapsed": false,
     "input": [
      "move_jump = AccelDeccel(JumpBy((200, 0), 75, 3, 3))\n",
      "move_jump_rot = AccelDeccel(RotateBy(360, 3))\n",
      "self.enemies[4].do(Repeat(move_jump + Reverse(move_jump)))\n",
      "self.enemies[4].do(Repeat(move_jump_rot + Reverse(move_jump_rot)))\n",
      "self.enemies[5].do(Repeat(Reverse(move_jump) + move_jump))\n",
      "self.enemies[5].do(Repeat(Reverse(move_jump_rot) + move_jump_rot))"
     ],
     "language": "python",
     "metadata": {},
     "outputs": []
    },
    {
     "cell_type": "markdown",
     "metadata": {},
     "source": [
      "Here, we want to show off some of the more fancy movements. We will also run two actions at the same time on each henchmen, making them jump around while rotating. \n",
      "\n",
      "We use a few actions that we haven't seen before here.\n",
      "\n",
      "The first one is `JumpBy`, which makes the sprite jump around. We can specify by how much we want to move, the height and number of jumps and the duration. We used `JumpBy((200, 0), 75, 3, 3)`, which makes our henchman jump 200px to the right, jump to the height of 75px and jump three times, all of this in 3 seconds. \n",
      "\n",
      "The second new action we use is `RotateBy`, which rotates by an angle in degrees (clockwise, if you want to rotate counter-clockwise, pass a negative angle) in the specified duration. In our case, we rotate a full circle clockwise in 3 seconds. \n",
      "\n",
      "Both actions are wrapped in the `AccelDeccel` which can be applied to any action to change the movement so it is not linear any more, but rather starts slow, gets fast in the middle and ends slow. \n",
      "\n",
      "We then run two actions on each henchmen - one for jumping and one for rotating. Since they both have the same duration, they will be merge to look like a single action. Of course, the duration can be different, creating a mix of different actions. "
     ]
    },
    {
     "cell_type": "heading",
     "level": 1,
     "metadata": {},
     "source": [
      "What comes next?"
     ]
    },
    {
     "cell_type": "markdown",
     "metadata": {},
     "source": [
      "With Actions, we created a dynamic game, but we still do not have collision detection, which will finally turn our application into a real game that can be won or lost. As you can probably guess, this is exactly what we will do in the next tutorial. "
     ]
    }
   ],
   "metadata": {}
  }
 ]
}