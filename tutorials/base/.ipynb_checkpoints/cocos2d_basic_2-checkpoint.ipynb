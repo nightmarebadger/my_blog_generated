{
 "metadata": {
  "name": ""
 },
 "nbformat": 3,
 "nbformat_minor": 0,
 "worksheets": [
  {
   "cells": [
    {
     "cell_type": "heading",
     "level": 1,
     "metadata": {},
     "source": [
      "A very basic Cocos2d tutorial, part 2"
     ]
    },
    {
     "cell_type": "markdown",
     "metadata": {},
     "source": [
      "In this tutorial, we will add movement to all the henchmen. This means we will take a closer look at [Actions](http://cocos2d.org/doc/programming_guide/actions.html) and use them to produce different movements for different henchmen. "
     ]
    },
    {
     "cell_type": "heading",
     "level": 1,
     "metadata": {},
     "source": [
      "Actions"
     ]
    },
    {
     "cell_type": "markdown",
     "metadata": {},
     "source": [
      "*Actions* are basically orders passed to a `CocosNode` object, and they usually modify one or more of the object's attributes like `position`, `rotation`, `scale` etc.\n",
      "\n",
      "*Actions* are split in two basic types - actions that are instant ([InstantActions](http://cocos2d.org/doc/api/cocos.actions.base_actions.InstantAction-class.html)) and actions that modify the attributes over a period of time ([IntervalActions](http://cocos2d.org/doc/api/cocos.actions.base_actions.IntervalAction-class.html)). \n",
      "\n",
      "We have already used an *Action* in the previous tutorial; the *Move* action, which moves the target based on the parameters `velocity`, `acceleration` and `gravity`, where the first two are (x, y) tuples. "
     ]
    },
    {
     "cell_type": "heading",
     "level": 2,
     "metadata": {},
     "source": [
      "Instant actions"
     ]
    },
    {
     "cell_type": "markdown",
     "metadata": {},
     "source": [
      "Actions like `Hide` (hides the object), `Show` (shows the object) and `Place` (\"teleports\" the object to the specified position) are instant actions. \n",
      "\n",
      "Programmatically speaking, `InstantActions` aren't all that different from `IntervalActions` - they just promise us that any changes that are performed on the target will be done in the `.start` method and their methods `.step`, `.update` and `.stop` do not do anything. This makes sure that `InstantActions` remain \"compatible\" with `IntervalActions`, meaning we can combine them in various ways. "
     ]
    },
    {
     "cell_type": "heading",
     "level": 2,
     "metadata": {},
     "source": [
      "Interval actions"
     ]
    },
    {
     "cell_type": "markdown",
     "metadata": {},
     "source": [
      "Interval actions are actions that change the target's parameters over a fixed duration. For instance, the actions `MoveTo((50, 50), 10)` would move the target to the position (50, 50) in 10 seconds. \n",
      "\n",
      "Interval actions can also be degenerated with a duration of 0, practically turning them into instant actions. The player would not see a difference between `MoveTo((50, 50), 0)` and ``Place((50, 50))`."
     ]
    },
    {
     "cell_type": "heading",
     "level": 2,
     "metadata": {},
     "source": [
      "Combining actions"
     ]
    },
    {
     "cell_type": "markdown",
     "metadata": {},
     "source": [
      "Actions can easily be combined together to build a chain of subsequent actions. To chain actions together, you can use math operators + and \\*, which do exactly what you would expect them to. "
     ]
    }
   ],
   "metadata": {}
  }
 ]
}