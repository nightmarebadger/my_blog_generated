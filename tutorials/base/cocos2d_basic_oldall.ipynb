{
 "metadata": {
  "name": ""
 },
 "nbformat": 3,
 "nbformat_minor": 0,
 "worksheets": [
  {
   "cells": [
    {
     "cell_type": "heading",
     "level": 1,
     "metadata": {
      "slideshow": {
       "slide_type": "slide"
      }
     },
     "source": [
      "What is Cocos2d?"
     ]
    },
    {
     "cell_type": "markdown",
     "metadata": {},
     "source": [
      "* Framework for building 2D games, demos and other graphical/interactive applications that builds on Pyglet\n",
      "* Main features:\n",
      "    * **Flow control**: Manage the flow control between different scenes in an easy way\n",
      "    * **Sprites**: Fast and easy sprites\n",
      "    * **Actions**: Just tell sprites what you want them to do. Composable actions like move, rotate, scale and much more\n",
      "    * **Effects**: Effects like waves, twirl, lens and much more\n",
      "    * **Tiled Maps**: Support for rectangular and hexagonal tiled maps\n",
      "    * **Transitions**: Move from scene to scene with style\n",
      "    * **Menus**: Built in classes to create menus\n",
      "    * **Text Rendering**: Label and HTMLLabel with action support\n",
      "    * **Documentation**: Programming Guide + API Reference + Video Tutorials + Lots of simple tests showing how to use it\n",
      "    * **Built-in Python Interpreter**: For debugging purposes\n",
      "    * **BSD License**: Just use it\n",
      "    * **Pyglet Based**: No external dependencies\n",
      "    * **OpenGL Based**: Hardware Acceleration"
     ]
    },
    {
     "cell_type": "heading",
     "level": 1,
     "metadata": {
      "slideshow": {
       "slide_type": "slide"
      }
     },
     "source": [
      "3D game development in Cocos2d"
     ]
    },
    {
     "cell_type": "markdown",
     "metadata": {},
     "source": [
      "* Cocos2d (and pyglet) by default uses a 3D projection matrix (most of the transitions and effects are actually 3D)\n",
      "* Since we have access to OpenGL, you can use it directly to draw 3D objects\n",
      "* You will have to make your own logic for 3D camera, 3D collision detection etc., prefferably using numpy or something similar for computations ..."
     ]
    },
    {
     "cell_type": "markdown",
     "metadata": {
      "slideshow": {
       "slide_type": "fragment"
      }
     },
     "source": [
      "* ... unless you use one of the libraries built on top of Cocos2d that support 3D development"
     ]
    },
    {
     "cell_type": "heading",
     "level": 1,
     "metadata": {
      "slideshow": {
       "slide_type": "slide"
      }
     },
     "source": [
      "Cocos2d basics"
     ]
    },
    {
     "cell_type": "markdown",
     "metadata": {},
     "source": [
      "* Make a Scene\n",
      "* Add needed Sprites etc. to the Scene\n",
      "* Run the scene with _cocos.director.director_\n",
      "\n",
      "Cocos2d automatically takes care of drawing all Sprites that were added to a Scene, so we do not need to override the **on_draw()** function."
     ]
    },
    {
     "cell_type": "heading",
     "level": 1,
     "metadata": {
      "slideshow": {
       "slide_type": "subslide"
      }
     },
     "source": [
      "Scenes"
     ]
    },
    {
     "cell_type": "markdown",
     "metadata": {},
     "source": [
      "* More or less independent pieces of the app workflow, glued together by the _Director_\n",
      "* Your application can have many _Scenes_ ..."
     ]
    },
    {
     "cell_type": "markdown",
     "metadata": {
      "slideshow": {
       "slide_type": "fragment"
      }
     },
     "source": [
      "* ... but only one _Scene_ is active at a given time"
     ]
    },
    {
     "cell_type": "markdown",
     "metadata": {
      "slideshow": {
       "slide_type": "fragment"
      }
     },
     "source": [
      "* Example scenes:\n",
      "    * Intro\n",
      "    * Menu\n",
      "    * Level\n",
      "    * Winning scene\n",
      "    * Losing scene"
     ]
    },
    {
     "cell_type": "markdown",
     "metadata": {
      "slideshow": {
       "slide_type": "fragment"
      }
     },
     "source": [
      "* Scenes are usually further divided into Layers"
     ]
    },
    {
     "cell_type": "heading",
     "level": 1,
     "metadata": {
      "slideshow": {
       "slide_type": "subslide"
      }
     },
     "source": [
      "Layers"
     ]
    },
    {
     "cell_type": "markdown",
     "metadata": {
      "slideshow": {
       "slide_type": "-"
      }
     },
     "source": [
      "* Layers help you organise the scene on the front to back axis\n",
      "* Usually transparent sheets where children are drawn, the scene then stacks the sheets"
     ]
    },
    {
     "cell_type": "markdown",
     "metadata": {
      "slideshow": {
       "slide_type": "fragment"
      }
     },
     "source": [
      "* Example layers:\n",
      "    * Background: landscape\n",
      "    * Far: decorations\n",
      "    * Middle: gameplay elements\n",
      "    * Near: player, enemies\n",
      "    * HUD: game stats, life, etc."
     ]
    },
    {
     "cell_type": "heading",
     "level": 1,
     "metadata": {
      "slideshow": {
       "slide_type": "subslide"
      }
     },
     "source": [
      "Handling key presses"
     ]
    },
    {
     "cell_type": "markdown",
     "metadata": {},
     "source": [
      "* Inside your Layer, set **is_event_handler = True**\n",
      "* Use pyglet events functions"
     ]
    },
    {
     "cell_type": "markdown",
     "metadata": {
      "slideshow": {
       "slide_type": "fragment"
      }
     },
     "source": [
      "* When defining events in _Layers_, they will be prioritised front to back"
     ]
    },
    {
     "cell_type": "markdown",
     "metadata": {
      "slideshow": {
       "slide_type": "fragment"
      }
     },
     "source": [
      "* You can also define your own events"
     ]
    },
    {
     "cell_type": "heading",
     "level": 1,
     "metadata": {
      "slideshow": {
       "slide_type": "subslide"
      }
     },
     "source": [
      "Sample bare bones program"
     ]
    },
    {
     "cell_type": "code",
     "collapsed": false,
     "input": [
      "import cocos\n",
      "\n",
      "if __name__ == '__main__':\n",
      "    cocos.director.director.init()\n",
      "    scene = cocos.scene.Scene()\n",
      "    cocos.director.director.run(scene)"
     ],
     "language": "python",
     "metadata": {},
     "outputs": []
    },
    {
     "cell_type": "heading",
     "level": 1,
     "metadata": {
      "slideshow": {
       "slide_type": "slide"
      }
     },
     "source": [
      "Translate from Pyglet to Cocos2d"
     ]
    },
    {
     "cell_type": "markdown",
     "metadata": {},
     "source": [
      "* Define a Game layer, set it to handle events\n",
      "* Use Cocos2d sprites and batches, add them to the game layer\n",
      "* For player movement, use _Sprite.velocity_ and the _Move_ action"
     ]
    },
    {
     "cell_type": "code",
     "collapsed": false,
     "input": [
      "Sprite.do(action)"
     ],
     "language": "python",
     "metadata": {
      "slideshow": {
       "slide_type": "fragment"
      }
     },
     "outputs": []
    },
    {
     "cell_type": "heading",
     "level": 1,
     "metadata": {
      "slideshow": {
       "slide_type": "slide"
      }
     },
     "source": [
      "Add enemy movement"
     ]
    },
    {
     "cell_type": "markdown",
     "metadata": {},
     "source": [
      "* We want the enemies to move around\n",
      "* To do this, we will use _cocos.actions_ on our Sprites\n",
      "* We will use a combination of many different actions to produce different movements"
     ]
    },
    {
     "cell_type": "markdown",
     "metadata": {
      "slideshow": {
       "slide_type": "fragment"
      }
     },
     "source": [
      "Actions can be combined, multiplied, reversed etc."
     ]
    },
    {
     "cell_type": "code",
     "collapsed": false,
     "input": [
      "Sprite.do( (MoveBy((120, 0), 1) + Delay(0.5) + MoveBy((0, 120), 1)) * 5 )\n",
      "\n",
      "action = MoveBy((200, 0), 1)\n",
      "Sprite.do(action + Reverse(action))"
     ],
     "language": "python",
     "metadata": {
      "slideshow": {
       "slide_type": "fragment"
      }
     },
     "outputs": []
    },
    {
     "cell_type": "markdown",
     "metadata": {
      "slideshow": {
       "slide_type": "subslide"
      }
     },
     "source": [
      "Actions for moving the 6 enemy sprites"
     ]
    },
    {
     "cell_type": "code",
     "collapsed": false,
     "input": [
      "move_basic = MoveBy((120, 0), 1)\n",
      "self.enemies[0].do(Repeat(move_basic + Reverse(move_basic)))\n",
      "self.enemies[1].do(Repeat(Reverse(move_basic) + move_basic))\n",
      "\n",
      "move_complex = (MoveBy((-75, 75), 1) +\n",
      "                            Delay(0.5) +\n",
      "                            MoveBy((-75, -75), 1) +\n",
      "                            Delay(0.5) +\n",
      "                            MoveBy((75, -75), 1) +\n",
      "                            Delay(0.5) +\n",
      "                            MoveBy((75, 75), 1) +\n",
      "                            Delay(0.5))\n",
      "self.enemies[2].do(Repeat(move_complex))\n",
      "self.enemies[3].do(Repeat(Reverse(move_complex)))\n",
      "\n",
      "move_jump = AccelDeccel(JumpBy((200, 0), 75, 3, 3))\n",
      "move_jump_rot = AccelDeccel(RotateBy(360, 3))\n",
      "self.enemies[4].do(Repeat(move_jump + Reverse(move_jump)))\n",
      "self.enemies[4].do(Repeat(move_jump_rot + Reverse(move_jump_rot)))\n",
      "self.enemies[5].do(Repeat(Reverse(move_jump) + move_jump))\n",
      "self.enemies[5].do(Repeat(Reverse(move_jump_rot) + move_jump_rot))"
     ],
     "language": "python",
     "metadata": {
      "slideshow": {
       "slide_type": "-"
      }
     },
     "outputs": []
    },
    {
     "cell_type": "heading",
     "level": 1,
     "metadata": {
      "slideshow": {
       "slide_type": "slide"
      }
     },
     "source": [
      "Add collision detection"
     ]
    },
    {
     "cell_type": "markdown",
     "metadata": {},
     "source": [
      "* We will use a simple brute force alghoritm (from cocos2d)"
     ]
    },
    {
     "cell_type": "markdown",
     "metadata": {
      "slideshow": {
       "slide_type": "fragment"
      }
     },
     "source": [
      "* Set a CollisionManager\n",
      "* Each sprite that we want to be collideable needs to have a .cshape (circular or rectangular) property\n",
      "* Add each sprite to the manager\n",
      "* We will be able to use manager.objs_colliding(self.player) to get a list of every object that collides with our player"
     ]
    },
    {
     "cell_type": "markdown",
     "metadata": {
      "slideshow": {
       "slide_type": "fragment"
      }
     },
     "source": [
      "* We also need a way to check for collisions each frame\n",
      "* Each time we move a sprite, we need to update its .cshape property position"
     ]
    },
    {
     "cell_type": "heading",
     "level": 1,
     "metadata": {
      "slideshow": {
       "slide_type": "subslide"
      }
     },
     "source": [
      "Make sprites collideable"
     ]
    },
    {
     "cell_type": "markdown",
     "metadata": {},
     "source": [
      "Adding player to the collision manager"
     ]
    },
    {
     "cell_type": "code",
     "collapsed": false,
     "input": [
      "self.collision_manager = cm.CollisionManagerBruteForce()\n",
      "\n",
      "self.player = cocos.sprite.Sprite(resources.player)\n",
      "self.player.position = 400, 25\n",
      "self.player.velocity = 0, 0\n",
      "self.player.speed = 150\n",
      "self.add(self.player, z=2)\n",
      "\n",
      "self.player.cshape = cm.AARectShape(\n",
      "    self.player.position,\n",
      "    self.player.width//2,\n",
      "    self.player.height//2\n",
      ")\n",
      "self.collision_manager.add(self.player)"
     ],
     "language": "python",
     "metadata": {},
     "outputs": []
    },
    {
     "cell_type": "heading",
     "level": 1,
     "metadata": {
      "slideshow": {
       "slide_type": "subslide"
      }
     },
     "source": [
      "Check for collisions on each frame"
     ]
    },
    {
     "cell_type": "markdown",
     "metadata": {},
     "source": [
      "We will use .schedule() to schedule an update function on each frame. We do this in our layer `.__init__()`"
     ]
    },
    {
     "cell_type": "code",
     "collapsed": false,
     "input": [
      "self.schedule(self.update)"
     ],
     "language": "python",
     "metadata": {},
     "outputs": []
    },
    {
     "cell_type": "markdown",
     "metadata": {},
     "source": [
      "In the update function we update all .cshape positions and check for collisions"
     ]
    },
    {
     "cell_type": "code",
     "collapsed": false,
     "input": [
      "def update(self, dt):\n",
      "    self.player.cshape.center = self.player.position\n",
      "    for enem in self.enemies:\n",
      "        enem.cshape.center = enem.position\n",
      "\n",
      "    collisions = self.collision_manager.objs_colliding(self.player)\n",
      "    if collisions:\n",
      "        if self.boss in collisions:\n",
      "            print(\"You won!\")\n",
      "        cocos.director.director.pop()"
     ],
     "language": "python",
     "metadata": {},
     "outputs": []
    },
    {
     "cell_type": "heading",
     "level": 1,
     "metadata": {
      "slideshow": {
       "slide_type": "slide"
      }
     },
     "source": [
      "Add menus"
     ]
    },
    {
     "cell_type": "markdown",
     "metadata": {},
     "source": [
      "* We will use the _cocos.menu.Menu_ class to add two menus, a \"Main menu\" and \"Options menu\"\n",
      "* To make a menu:\n",
      "    * Make a list of _cocos.menu.MenuItem_, which take a title and a function to call when this item is selected\n",
      "    * Call the _`.create_menu()`_ method to create the menu"
     ]
    },
    {
     "cell_type": "markdown",
     "metadata": {
      "slideshow": {
       "slide_type": "fragment"
      }
     },
     "source": [
      "For the FPS toggle we use _cocos.menu.ToggleMenuItem_ instead of the normal one. It takes the title, the function to call and the toggle value to show. "
     ]
    },
    {
     "cell_type": "heading",
     "level": 1,
     "metadata": {
      "slideshow": {
       "slide_type": "subslide"
      }
     },
     "source": [
      "Main menu"
     ]
    },
    {
     "cell_type": "markdown",
     "metadata": {},
     "source": [
      "Main menu has 3 choices:\n",
      "\n",
      "* New game: starts a new game\n",
      "* Options: switch to the options menu\n",
      "* Quit: quits the game"
     ]
    },
    {
     "cell_type": "code",
     "collapsed": false,
     "input": [
      "class MainMenu(cocos.menu.Menu):\n",
      "\n",
      "    def __init__(self):\n",
      "        super( MainMenu, self).__init__('Catch your husband!')\n",
      "\n",
      "        items = []\n",
      "\n",
      "        items.append(cocos.menu.MenuItem('New game', self.on_new_game))\n",
      "        items.append(cocos.menu.MenuItem('Options', self.on_options))\n",
      "        items.append(cocos.menu.MenuItem('Quit', self.on_quit))\n",
      "\n",
      "        self.create_menu(items)\n",
      "\n",
      "    def on_new_game(self):\n",
      "        game_layer = Game()\n",
      "        game_scene = cocos.scene.Scene(game_layer)\n",
      "\n",
      "        cocos.director.director.push(game_scene)\n",
      "\n",
      "    def on_options( self ):\n",
      "        self.parent.switch_to(1)\n",
      "\n",
      "    def on_quit(self):\n",
      "        pyglet.app.exit()"
     ],
     "language": "python",
     "metadata": {
      "slideshow": {
       "slide_type": "fragment"
      }
     },
     "outputs": []
    },
    {
     "cell_type": "heading",
     "level": 1,
     "metadata": {
      "slideshow": {
       "slide_type": "subslide"
      }
     },
     "source": [
      "Options menu"
     ]
    },
    {
     "cell_type": "markdown",
     "metadata": {},
     "source": [
      "The options menu has 3 choices:\n",
      "\n",
      "* FPS toggle: show/hide FPS\n",
      "* Fullscreen toggle: switch between fullscreen and windowed\n",
      "* Back: back to main menu"
     ]
    },
    {
     "cell_type": "code",
     "collapsed": false,
     "input": [
      "class OptionsMenu(cocos.menu.Menu):\n",
      "    def __init__(self):\n",
      "        super( OptionsMenu, self).__init__('Catch your husband!')\n",
      "\n",
      "        items = []\n",
      "\n",
      "        items.append(cocos.menu.ToggleMenuItem(\n",
      "            'Show FPS:',\n",
      "            self.on_show_fps,\n",
      "            cocos.director.director.show_FPS)\n",
      "        )\n",
      "        items.append(cocos.menu.MenuItem('Fullscreen', self.on_fullscreen))\n",
      "        items.append(cocos.menu.MenuItem('Back', self.on_quit))\n",
      "        self.create_menu(items)\n",
      "\n",
      "    def on_fullscreen( self ):\n",
      "        cocos.director.director.window.set_fullscreen(\n",
      "            not cocos.director.director.window.fullscreen)\n",
      "\n",
      "    def on_quit( self ):\n",
      "        self.parent.switch_to( 0 )\n",
      "\n",
      "    def on_show_fps( self, value ):\n",
      "        cocos.director.director.show_FPS = value"
     ],
     "language": "python",
     "metadata": {
      "slideshow": {
       "slide_type": "fragment"
      }
     },
     "outputs": []
    },
    {
     "cell_type": "heading",
     "level": 1,
     "metadata": {
      "slideshow": {
       "slide_type": "subslide"
      }
     },
     "source": [
      "Start with the menu, not with the game"
     ]
    },
    {
     "cell_type": "markdown",
     "metadata": {},
     "source": [
      "When the game loads, we want to open the menu, not the game. We need to change the initialisation from"
     ]
    },
    {
     "cell_type": "code",
     "collapsed": false,
     "input": [
      "cocos.director.director.init(\n",
      "    width=800,\n",
      "    height=650,\n",
      "    caption=\"Catch your husband!\"\n",
      ")\n",
      "\n",
      "game_layer = Game()\n",
      "game_scene = cocos.scene.Scene(game_layer)\n",
      "\n",
      "cocos.director.director.run(game_scene)"
     ],
     "language": "python",
     "metadata": {},
     "outputs": []
    },
    {
     "cell_type": "markdown",
     "metadata": {},
     "source": [
      "to"
     ]
    },
    {
     "cell_type": "code",
     "collapsed": false,
     "input": [
      "cocos.director.director.init(\n",
      "    width=800,\n",
      "    height=650,\n",
      "    caption=\"Catch your husband!\"\n",
      ")\n",
      "\n",
      "scene = cocos.scene.Scene()\n",
      "scene.add(cocos.layer.MultiplexLayer(MainMenu(), OptionsMenu()), z=1)\n",
      "cocos.director.director.run(scene)"
     ],
     "language": "python",
     "metadata": {},
     "outputs": []
    },
    {
     "cell_type": "markdown",
     "metadata": {
      "slideshow": {
       "slide_type": "fragment"
      }
     },
     "source": [
      "The old code for starting the game was moved to the Main menu, inside the _`on_new_game()`_ function."
     ]
    },
    {
     "cell_type": "heading",
     "level": 1,
     "metadata": {
      "slideshow": {
       "slide_type": "slide"
      }
     },
     "source": [
      "Finishing touches"
     ]
    },
    {
     "cell_type": "markdown",
     "metadata": {},
     "source": [
      "Our game still looks very \"bare\", so let's add some simple things to spice it up! We will:\n",
      "\n",
      "* Add a nice background to the menus\n",
      "* Customise the menus\n",
      "* Add sounds and music\n",
      "* Add a nice transition when starting a new game"
     ]
    },
    {
     "cell_type": "heading",
     "level": 1,
     "metadata": {
      "slideshow": {
       "slide_type": "subslide"
      }
     },
     "source": [
      "Adding a background to the menus"
     ]
    },
    {
     "cell_type": "markdown",
     "metadata": {},
     "source": [
      "We will make a background layer that will have:\n",
      "\n",
      "* A background picture\n",
      "* Our player sprite jumping up and down\n",
      "* An enemy sprite moving left and right\n",
      "* The boss (aka our player's husband) looking menacing"
     ]
    },
    {
     "cell_type": "code",
     "collapsed": false,
     "input": [
      "class BackgroundLayer(cocos.layer.Layer):\n",
      "    def __init__(self):\n",
      "        super(BackgroundLayer, self).__init__()\n",
      "        self.image = cocos.sprite.Sprite(resources.background)\n",
      "        self.image.position = 400, 325\n",
      "        self.add(self.image, z=0)\n",
      "\n",
      "        self.player = cocos.sprite.Sprite(resources.player)\n",
      "        self.player.position = 200, 75\n",
      "        self.add(self.player, z=1)\n",
      "\n",
      "        self.enemy = cocos.sprite.Sprite(resources.enemy)\n",
      "        self.enemy.position = 400, 75\n",
      "        self.add(self.enemy, z=1)\n",
      "\n",
      "        self.boss = cocos.sprite.Sprite(resources.boss)\n",
      "        self.boss.scale = 0.4\n",
      "        rect = self.boss.get_rect()\n",
      "        rect.midbottom = 600, 50\n",
      "        self.boss.position = rect.center\n",
      "        self.add(self.boss, z=1)\n",
      "\n",
      "        self.player.do(Repeat(JumpBy((0, 0), 100, 1, 1)))\n",
      "        self.enemy.do(Repeat(\n",
      "            MoveBy((-25, 0), 0.25) +\n",
      "            MoveBy((50, 0), 0.5) +\n",
      "            MoveBy((-25, 0), 0.25)))\n",
      "        self.boss.do(Repeat(FadeTo(155, 0.5) + FadeTo(255, 0.5)))"
     ],
     "language": "python",
     "metadata": {
      "slideshow": {
       "slide_type": "fragment"
      }
     },
     "outputs": []
    },
    {
     "cell_type": "markdown",
     "metadata": {
      "slideshow": {
       "slide_type": "fragment"
      }
     },
     "source": [
      "Add it to the scene in the initialisation"
     ]
    },
    {
     "cell_type": "code",
     "collapsed": false,
     "input": [
      "scene = cocos.scene.Scene()\n",
      "scene.add(cocos.layer.MultiplexLayer(MainMenu(), OptionsMenu()), z=1)\n",
      "scene.add(BackgroundLayer(), z=0)\n",
      "cocos.director.director.run(scene)"
     ],
     "language": "python",
     "metadata": {
      "slideshow": {
       "slide_type": "fragment"
      }
     },
     "outputs": []
    },
    {
     "cell_type": "heading",
     "level": 1,
     "metadata": {
      "slideshow": {
       "slide_type": "subslide"
      }
     },
     "source": [
      "Customise the menus"
     ]
    },
    {
     "cell_type": "markdown",
     "metadata": {},
     "source": [
      "To customise the menus, we will:\n",
      "\n",
      "* Change the font family, it's size and color\n",
      "    * The base font will be completely white, so it is easier to see/read\n",
      "    * The selected menu item will be a nice pink color to complement our heroine\n",
      "* Add a sound when moving around the menu\n",
      "* Make the items shake around on selection"
     ]
    },
    {
     "cell_type": "code",
     "collapsed": false,
     "input": [
      "self.select_sound = resources.menu_sound\n",
      "\n",
      "self.font_title['font_name'] = 'Edit Undo Line BRK'\n",
      "self.font_title['font_size'] = 52\n",
      "self.font_title['color'] = (240, 0, 220, 255)\n",
      "\n",
      "self.font_item['color'] = (255, 255, 255, 255)\n",
      "self.font_item_selected['color'] = (240, 0, 220, 255)\n",
      "\n",
      "...\n",
      "\n",
      "self.create_menu(items, cocos.menu.shake(), cocos.menu.shake_back())"
     ],
     "language": "python",
     "metadata": {
      "slideshow": {
       "slide_type": "fragment"
      }
     },
     "outputs": []
    },
    {
     "cell_type": "heading",
     "level": 1,
     "metadata": {
      "slideshow": {
       "slide_type": "subslide"
      }
     },
     "source": [
      "Add music"
     ]
    },
    {
     "cell_type": "markdown",
     "metadata": {},
     "source": [
      "We want some music to be playing while we play the game. We will use \"tetrico.mp3\", which is bundled in cocos2d examples folder.\n",
      "\n",
      "To play music we must:\n",
      "\n",
      "* Define a _pyglet.media.Player()_\n",
      "* Start the music when we enter the game\n",
      "* Pause and rewind it when we stop the game (go back to the menu)"
     ]
    },
    {
     "cell_type": "markdown",
     "metadata": {
      "slideshow": {
       "slide_type": "fragment"
      }
     },
     "source": [
      "We define the player in the initialisation with"
     ]
    },
    {
     "cell_type": "code",
     "collapsed": false,
     "input": [
      "music_player = pyglet.media.Player()\n",
      "music_player.volume = 1"
     ],
     "language": "python",
     "metadata": {
      "slideshow": {
       "slide_type": "fragment"
      }
     },
     "outputs": []
    },
    {
     "cell_type": "markdown",
     "metadata": {
      "slideshow": {
       "slide_type": "fragment"
      }
     },
     "source": [
      "Start and stop the music inside the Game layer"
     ]
    },
    {
     "cell_type": "code",
     "collapsed": false,
     "input": [
      "def on_enter(self):\n",
      "    super(Game, self).on_enter()\n",
      "\n",
      "    try:\n",
      "        music_player.queue(resources.game_music)\n",
      "    except:\n",
      "        pass\n",
      "\n",
      "    music_player.play()\n",
      "\n",
      "    music_player.eos_action = 'loop'\n",
      "\n",
      "\n",
      "def on_exit(self):\n",
      "    super(Game, self).on_exit()\n",
      "\n",
      "    music_player.seek(1)\n",
      "    music_player.pause()"
     ],
     "language": "python",
     "metadata": {
      "slideshow": {
       "slide_type": "fragment"
      }
     },
     "outputs": []
    },
    {
     "cell_type": "heading",
     "level": 1,
     "metadata": {
      "slideshow": {
       "slide_type": "subslide"
      }
     },
     "source": [
      "Add a fancy transition"
     ]
    },
    {
     "cell_type": "markdown",
     "metadata": {},
     "source": [
      "To add a transition to the Game, we simply need to change the game starting code (in main menu) from"
     ]
    },
    {
     "cell_type": "code",
     "collapsed": false,
     "input": [
      "cocos.director.director.push(game_scene)"
     ],
     "language": "python",
     "metadata": {},
     "outputs": []
    },
    {
     "cell_type": "markdown",
     "metadata": {},
     "source": [
      "to"
     ]
    },
    {
     "cell_type": "code",
     "collapsed": false,
     "input": [
      "cocos.director.director.push(\n",
      "            FlipAngular3DTransition(game_scene, 1))"
     ],
     "language": "python",
     "metadata": {},
     "outputs": []
    },
    {
     "cell_type": "markdown",
     "metadata": {},
     "source": [
      "which will use the _FlipAngular3DTransition_ transformation lasting 1 second to change the scenes."
     ]
    },
    {
     "cell_type": "heading",
     "level": 1,
     "metadata": {
      "slideshow": {
       "slide_type": "slide"
      }
     },
     "source": [
      "To infinity ... and beyond!"
     ]
    },
    {
     "cell_type": "markdown",
     "metadata": {},
     "source": [
      "Of course we do not have to stop here. For added ideas we could also add:\n",
      "\n",
      "* Lives: getting hit by one of your husband henchmen doesn't knock you out immediately, but rather shows a fancy blur/wave effect eminating from your position\n",
      "* Make a \"game won\" and \"game over layer\"\n",
      "* Make an intro with automatically scrolling story text with background music\n",
      "* Add some more effects ..."
     ]
    },
    {
     "cell_type": "markdown",
     "metadata": {
      "slideshow": {
       "slide_type": "fragment"
      }
     },
     "source": [
      "* ... just do not overuse them, it won't look good!"
     ]
    },
    {
     "cell_type": "heading",
     "level": 1,
     "metadata": {
      "slideshow": {
       "slide_type": "slide"
      }
     },
     "source": [
      "Thank you for your attention! :)"
     ]
    },
    {
     "cell_type": "heading",
     "level": 3,
     "metadata": {},
     "source": [
      "Feel free to ask any questions?"
     ]
    }
   ],
   "metadata": {}
  }
 ]
}